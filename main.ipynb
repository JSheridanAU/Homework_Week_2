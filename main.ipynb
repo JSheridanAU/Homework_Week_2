{
 "cells": [
  {
   "cell_type": "code",
   "execution_count": 99,
   "metadata": {},
   "outputs": [
    {
     "name": "stdout",
     "output_type": "stream",
     "text": [
      "Financial Analysis\n",
      "------------------------------------------------\n",
      "Total Months: 86\n",
      "Total: $38382578\n",
      "Average Change: $-2315.12\n",
      "Greatest Increase in Profits: Feb-2012 $1926159\n",
      "Greatest Decrease in Profits: Sep-2013 $-2196167\n"
     ]
    }
   ],
   "source": [
    "from pathlib import Path\n",
    "import csv\n",
    "\n",
    "csvpath = Path(\"budget_data.csv\")\n",
    "\n",
    "months = []\n",
    "profit = []\n",
    "\n",
    "with open(csvpath, \"r\") as csvfile:\n",
    "        csvreader = csv.reader(csvfile, delimiter=\",\")\n",
    "        \n",
    "        csvheader = next(csvreader)\n",
    "        \n",
    "        for row in csvreader:\n",
    "            months.append(row[0])\n",
    "            profit.append(row[1])\n",
    "            \n",
    "num_months = len(months)\n",
    "            \n",
    "tot_profit = 0\n",
    "change_profit = 0\n",
    "series_profit = []\n",
    "y = 0\n",
    "z = 1\n",
    "\n",
    "for x in profit:\n",
    "        tot_profit = tot_profit + int(x)\n",
    "        if z < num_months:\n",
    "            change_profit = int(profit[z]) - int(profit[y])\n",
    "            series_profit.append(change_profit)\n",
    "            y = y + 1\n",
    "            z = z + 1\n",
    "\n",
    "average_change = round(sum(series_profit) / len(series_profit), 2)\n",
    "\n",
    "max_profit = max(series_profit)\n",
    "date_max_index = series_profit.index(max_profit)\n",
    "date_max = months[(date_max_index+1)]\n",
    "min_profit = min(series_profit)\n",
    "date_min_index = series_profit.index(min_profit)\n",
    "date_min = months[(date_min_index+1)]\n",
    "\n",
    "print(\"Financial Analysis\")\n",
    "print(\"------------------------------------------------\")\n",
    "print(f\"Total Months: {num_months}\")\n",
    "print(f\"Total: ${tot_profit}\")\n",
    "print(f\"Average Change: ${average_change}\")\n",
    "print(f\"Greatest Increase in Profits: {date_max} ${max_profit}\")\n",
    "print(f\"Greatest Decrease in Profits: {date_min} ${min_profit}\")"
   ]
  },
  {
   "cell_type": "code",
   "execution_count": null,
   "metadata": {},
   "outputs": [],
   "source": []
  }
 ],
 "metadata": {
  "kernelspec": {
   "display_name": "Python 3",
   "language": "python",
   "name": "python3"
  },
  "language_info": {
   "codemirror_mode": {
    "name": "ipython",
    "version": 3
   },
   "file_extension": ".py",
   "mimetype": "text/x-python",
   "name": "python",
   "nbconvert_exporter": "python",
   "pygments_lexer": "ipython3",
   "version": "3.7.9"
  }
 },
 "nbformat": 4,
 "nbformat_minor": 4
}
